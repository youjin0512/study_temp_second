{
  "nbformat": 4,
  "nbformat_minor": 0,
  "metadata": {
    "colab": {
      "provenance": [],
      "authorship_tag": "ABX9TyP+je1/ToTAVrXfp1leo4RX",
      "include_colab_link": true
    },
    "kernelspec": {
      "name": "python3",
      "display_name": "Python 3"
    },
    "language_info": {
      "name": "python"
    }
  },
  "cells": [
    {
      "cell_type": "markdown",
      "metadata": {
        "id": "view-in-github",
        "colab_type": "text"
      },
      "source": [
        "<a href=\"https://colab.research.google.com/github/youjin0512/study_temp_second/blob/main/if_else_quest_%5Byoujin%5D.ipynb\" target=\"_parent\"><img src=\"https://colab.research.google.com/assets/colab-badge.svg\" alt=\"Open In Colab\"/></a>"
      ]
    },
    {
      "cell_type": "code",
      "execution_count": 9,
      "metadata": {
        "colab": {
          "base_uri": "https://localhost:8080/"
        },
        "id": "lXWRDtpyaEcO",
        "outputId": "064c7797-6c0d-4868-b9aa-a68ff38a39a3"
      },
      "outputs": [
        {
          "output_type": "stream",
          "name": "stdout",
          "text": [
            "오른쪽\n",
            "Program End !\n"
          ]
        }
      ],
      "source": [
        "#quest\n",
        "distance=60\n",
        "if(distance >= 75) :\n",
        "  pass\n",
        "  print(\"왼쪽\")\n",
        "else:\n",
        "  pass\n",
        "  print(\"오른쪽\")\n",
        "\n",
        "print(\"Program End !\")"
      ]
    },
    {
      "cell_type": "code",
      "source": [],
      "metadata": {
        "id": "ZErvL3mja-6f"
      },
      "execution_count": null,
      "outputs": []
    }
  ]
}