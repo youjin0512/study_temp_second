{
  "nbformat": 4,
  "nbformat_minor": 0,
  "metadata": {
    "colab": {
      "provenance": [],
      "authorship_tag": "ABX9TyMT7D3wEbkF+1ELLqEjR3aY",
      "include_colab_link": true
    },
    "kernelspec": {
      "name": "python3",
      "display_name": "Python 3"
    },
    "language_info": {
      "name": "python"
    }
  },
  "cells": [
    {
      "cell_type": "markdown",
      "metadata": {
        "id": "view-in-github",
        "colab_type": "text"
      },
      "source": [
        "<a href=\"https://colab.research.google.com/github/youjin0512/study_temp_second/blob/main/initial_quest_youjin.ipynb\" target=\"_parent\"><img src=\"https://colab.research.google.com/assets/colab-badge.svg\" alt=\"Open In Colab\"/></a>"
      ]
    },
    {
      "cell_type": "code",
      "execution_count": 1,
      "metadata": {
        "colab": {
          "base_uri": "https://localhost:8080/"
        },
        "id": "UXVOHYxXgUDE",
        "outputId": "c1799a9b-d16b-4962-fd42-5fe98c8b32a5"
      },
      "outputs": [
        {
          "output_type": "stream",
          "name": "stdout",
          "text": [
            "축하합니다\n",
            "좀 더 현명했으면 합니다.\n"
          ]
        }
      ],
      "source": [
        "# if with 숫자\n",
        "print('축하합니다')\n",
        "print('좀 더 현명했으면 합니다.')"
      ]
    },
    {
      "cell_type": "code",
      "source": [
        "score = 80\n",
        "if (score > 60) : #condition = 변수 + 부등호\n",
        "  pass\n",
        "  print('축하드립니다.')"
      ],
      "metadata": {
        "colab": {
          "base_uri": "https://localhost:8080/"
        },
        "id": "62rriQVVgwOh",
        "outputId": "35fc29c8-a62d-4991-fcb3-41ace66ada07"
      },
      "execution_count": 5,
      "outputs": [
        {
          "output_type": "stream",
          "name": "stdout",
          "text": [
            "축하드립니다.\n"
          ]
        }
      ]
    },
    {
      "cell_type": "code",
      "source": [
        "print(score > 60)"
      ],
      "metadata": {
        "colab": {
          "base_uri": "https://localhost:8080/"
        },
        "id": "Zk8bI02Xg-FK",
        "outputId": "5fcf9b78-478a-4f73-857c-afd3f89d330d"
      },
      "execution_count": 9,
      "outputs": [
        {
          "output_type": "stream",
          "name": "stdout",
          "text": [
            "True\n"
          ]
        }
      ]
    },
    {
      "cell_type": "code",
      "source": [
        "print(score > 81)"
      ],
      "metadata": {
        "colab": {
          "base_uri": "https://localhost:8080/"
        },
        "id": "7FmSJichhpPg",
        "outputId": "853333c1-3f2b-42bb-fa6c-27e682256d6a"
      },
      "execution_count": 11,
      "outputs": [
        {
          "output_type": "stream",
          "name": "stdout",
          "text": [
            "False\n"
          ]
        }
      ]
    },
    {
      "cell_type": "code",
      "source": [],
      "metadata": {
        "id": "8L7henR9hrx2"
      },
      "execution_count": null,
      "outputs": []
    }
  ]
}