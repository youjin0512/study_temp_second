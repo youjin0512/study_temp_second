{
  "nbformat": 4,
  "nbformat_minor": 0,
  "metadata": {
    "colab": {
      "provenance": [],
      "authorship_tag": "ABX9TyP91pvQxLSPIXkLz0YO8gt1",
      "include_colab_link": true
    },
    "kernelspec": {
      "name": "python3",
      "display_name": "Python 3"
    },
    "language_info": {
      "name": "python"
    }
  },
  "cells": [
    {
      "cell_type": "markdown",
      "metadata": {
        "id": "view-in-github",
        "colab_type": "text"
      },
      "source": [
        "<a href=\"https://colab.research.google.com/github/youjin0512/study_temp_second/blob/main/quests_if_elif_elses_%5Byoujin%5D.ipynb\" target=\"_parent\"><img src=\"https://colab.research.google.com/assets/colab-badge.svg\" alt=\"Open In Colab\"/></a>"
      ]
    },
    {
      "cell_type": "code",
      "execution_count": 2,
      "metadata": {
        "colab": {
          "base_uri": "https://localhost:8080/"
        },
        "id": "w5zLaivDxEL5",
        "outputId": "7902425c-bbc5-46ee-8f6b-25e9411040f6"
      },
      "outputs": [
        {
          "output_type": "stream",
          "name": "stdout",
          "text": [
            "A\n",
            "Program End !\n"
          ]
        }
      ],
      "source": [
        "#if elif else with 숫자\n",
        "scores = 92\n",
        "if (scores >= 90) :\n",
        "  pass\n",
        "  print(\"A\")\n",
        "elif (scores >= 80) :\n",
        "  pass\n",
        "  print(\"B\")\n",
        "elif(scores >= 70):\n",
        "  pass\n",
        "  print(\"C\")\n",
        "elif(scores >= 60):\n",
        "  pass\n",
        "  print(\"D\")\n",
        "else :\n",
        "  pass\n",
        "  print(\"F\")\n",
        "\n",
        "print(\"Program End !\")"
      ]
    }
  ]
}