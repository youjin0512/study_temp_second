{
  "nbformat": 4,
  "nbformat_minor": 0,
  "metadata": {
    "colab": {
      "provenance": [],
      "authorship_tag": "ABX9TyMVR2UtgQlQz/ZEYQSWGxza",
      "include_colab_link": true
    },
    "kernelspec": {
      "name": "python3",
      "display_name": "Python 3"
    },
    "language_info": {
      "name": "python"
    }
  },
  "cells": [
    {
      "cell_type": "markdown",
      "metadata": {
        "id": "view-in-github",
        "colab_type": "text"
      },
      "source": [
        "<a href=\"https://colab.research.google.com/github/youjin0512/study_temp_second/blob/main/quests_if_elif_elses_%5Byoujin%5D.ipynb\" target=\"_parent\"><img src=\"https://colab.research.google.com/assets/colab-badge.svg\" alt=\"Open In Colab\"/></a>"
      ]
    },
    {
      "cell_type": "code",
      "execution_count": 3,
      "metadata": {
        "colab": {
          "base_uri": "https://localhost:8080/"
        },
        "id": "w5zLaivDxEL5",
        "outputId": "2134dcb0-85b7-44cf-a751-99b008910a1d"
      },
      "outputs": [
        {
          "output_type": "stream",
          "name": "stdout",
          "text": [
            "A\n",
            "Program End !\n"
          ]
        }
      ],
      "source": [
        "#if elif else with 숫자\n",
        "scores = 92\n",
        "if (scores >= 90) :\n",
        "  pass\n",
        "  print(\"A\")\n",
        "elif (scores >= 80) :\n",
        "  pass\n",
        "  print(\"B\")\n",
        "elif(scores >= 70):\n",
        "  pass\n",
        "  print(\"C\")\n",
        "elif(scores < 60):\n",
        "  pass\n",
        "  print(\"D\")\n",
        "else :\n",
        "  pass\n",
        "  print(\"F\")\n",
        "\n",
        "print(\"Program End !\")"
      ]
    }
  ]
}